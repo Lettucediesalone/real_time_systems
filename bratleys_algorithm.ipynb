from collections import deque

class Task:
  def __init__(self, name, arrival_time, completion_time, deadline, priority):
    self.name = name
    self.arrival_time = arrival_time
    self.completion_time = completion_time
    self.deadline = deadline
    self.priority = priority
    self.child = []
    self.parent = 0

  def __str__(self):
    return self.name

  def add_child(self, child):
    self.child.append(child)

  def set_parent(self, parent):
    self.parent = parent

  def get_name(self):
    return self.name

  @staticmethod
  def print_tasks(tasks):
    for index, task in enumerate(tasks):
      print(tasks[index])
    print("\n")

  @staticmethod
  def sort_tasks(tasks):
    tasks.sort(key = lambda Task: Task.priority)

  @staticmethod
  def calculate_finish_time(current_time, arrival_time, completion_time):
    if current_time <= arrival_time:
      finish_time = arrival_time + completion_time
    else:
      finish_time = current_time + completion_time
    return finish_time

  # Utility function to print the
  # preorder of the given K-Ary Tree
  @staticmethod
  def preorderTraversal(root):
  
    Stack = deque([])
    # 'Preorder'-> contains all the
    # visited nodes.
    Preorder = []
    Preorder.append(root.name)
    Stack.append(root)
    while len(Stack) > 0:
      # 'Flag' checks whether all the child
      # nodes have been visited.
      flag = 0
      # CASE 1- If Top of the stack is a leaf
      # node then remove it from the stack:
      if len((Stack[len(Stack)-1]).child) == 0:
        X = Stack.pop()
        # CASE 2- If Top of the stack is
        # Parent with children:
      else:
        Par = Stack[len(Stack)-1]
      # a)As soon as an unvisited child is
      # found(left to right sequence),
      # Push it to Stack and Store it in
      # Auxiliary List(Marked Visited)
      # Start Again from Case-1, to explore
      # this newly visited child
      for i in range(0, len(Par.child)):
        if Par.child[i].name not in Preorder:
          flag = 1
          Stack.append(Par.child[i])
          Preorder.append(Par.child[i].name)
          break
          # b)If all Child nodes from left to right
          # of a Parent have been visited
          # then remove the parent from the stack.
      if flag == 0:
        Stack.pop()
    print(Preorder)
    
    import numpy as np

tasks = [Task("task1", 4, 2, 7, 1),    
        Task("task2", 1, 1, 5, 2),    
        Task("task3", 1, 2, 6, 3),    
        Task("task4", 0, 2, 4, 4),]

Task.print_tasks(tasks)

Task.sort_tasks(tasks)

Task.print_tasks(tasks)

# task1.child.append
for index, task in enumerate(tasks):
  print(tasks[index])

feasible_bool = False
dead = Task("dead", 0, 0, 0, 0)
feasible = Task("Feasible", 0, 0, 0, 0)
root = Task("root", 0, 0, 0, 0)
current_time = 0

tasks.insert(0, root)


while len(tasks) > 0:

  print("length of tasks is ", len(tasks))
  walker = tasks[0] # create walker to act as current Task node
  print("current task is ", walker.name)
  tasks.remove(tasks[0]) # remove the task form the tasks list



  finish_time = Task.calculate_finish_time(current_time, walker.arrival_time, walker.completion_time) # calculate the time that the task will finish at
  print("finish time is ", finish_time)
  print("deadline is ", walker.deadline)
  
  if finish_time <= walker.deadline: # if the task finishes before its deadline
    if len(tasks) == 0: # if the task finished before deadline and it is the last task, a feasible schedule has been found
      feasible_bool = True # set feasible bool to true
      tasks.append(feasible) # insert the "feasible" marker task into the tasks list to set it as the child of current task.
                             # this is used later in traversal to find the feasible schedule
      print("found feasible")

    walker.add_child(tasks[0]) # add the next task to the tree as current task's child
    tasks[0].set_parent(walker) # set the parent of the next task equal to the current task
    current_time = finish_time # set the current time equal to the time that the task finishes
  else:
    print("found dead")
    walker.add_child(dead) # set 
    tasks.insert(0, walker.parent.parent)

  # print(tasks)

  if feasible_bool == True: # if a feasible schedule is found, end the while loop
    print("leaving loop")
    break

Task.preorderTraversal(root)

print(root)

Task.print_tasks(root.child)
Task.print_tasks(root.child[0].child)
# Task.print_tasks(root.child[0].child[0].child)
